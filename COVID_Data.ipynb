{
 "cells": [
  {
   "cell_type": "code",
   "execution_count": 1,
   "id": "f68e5f0c-996f-48bb-acb3-c12f30785c33",
   "metadata": {},
   "outputs": [],
   "source": [
    "import pandas as pd\n",
    "import numpy as np\n",
    "import matplotlib.pyplot as plt\n",
    "import seaborn as sns"
   ]
  },
  {
   "cell_type": "code",
   "execution_count": 2,
   "id": "f0054dad-e2cc-4b27-ad85-7f2cd0e6d27c",
   "metadata": {},
   "outputs": [
    {
     "data": {
      "text/html": [
       "<div>\n",
       "<style scoped>\n",
       "    .dataframe tbody tr th:only-of-type {\n",
       "        vertical-align: middle;\n",
       "    }\n",
       "\n",
       "    .dataframe tbody tr th {\n",
       "        vertical-align: top;\n",
       "    }\n",
       "\n",
       "    .dataframe thead th {\n",
       "        text-align: right;\n",
       "    }\n",
       "</style>\n",
       "<table border=\"1\" class=\"dataframe\">\n",
       "  <thead>\n",
       "    <tr style=\"text-align: right;\">\n",
       "      <th></th>\n",
       "      <th>Country/Region</th>\n",
       "      <th>Confirmed</th>\n",
       "      <th>Deaths</th>\n",
       "      <th>Recovered</th>\n",
       "      <th>Active</th>\n",
       "      <th>New cases</th>\n",
       "      <th>New deaths</th>\n",
       "      <th>New recovered</th>\n",
       "      <th>Deaths / 100 Cases</th>\n",
       "      <th>Recovered / 100 Cases</th>\n",
       "      <th>Deaths / 100 Recovered</th>\n",
       "      <th>Confirmed last week</th>\n",
       "      <th>1 week change</th>\n",
       "      <th>1 week % increase</th>\n",
       "      <th>WHO Region</th>\n",
       "    </tr>\n",
       "  </thead>\n",
       "  <tbody>\n",
       "    <tr>\n",
       "      <th>0</th>\n",
       "      <td>Afghanistan</td>\n",
       "      <td>36263</td>\n",
       "      <td>1269</td>\n",
       "      <td>25198</td>\n",
       "      <td>9796</td>\n",
       "      <td>106</td>\n",
       "      <td>10</td>\n",
       "      <td>18</td>\n",
       "      <td>3.50</td>\n",
       "      <td>69.49</td>\n",
       "      <td>5.04</td>\n",
       "      <td>35526</td>\n",
       "      <td>737</td>\n",
       "      <td>2.07</td>\n",
       "      <td>Eastern Mediterranean</td>\n",
       "    </tr>\n",
       "    <tr>\n",
       "      <th>1</th>\n",
       "      <td>Albania</td>\n",
       "      <td>4880</td>\n",
       "      <td>144</td>\n",
       "      <td>2745</td>\n",
       "      <td>1991</td>\n",
       "      <td>117</td>\n",
       "      <td>6</td>\n",
       "      <td>63</td>\n",
       "      <td>2.95</td>\n",
       "      <td>56.25</td>\n",
       "      <td>5.25</td>\n",
       "      <td>4171</td>\n",
       "      <td>709</td>\n",
       "      <td>17.00</td>\n",
       "      <td>Europe</td>\n",
       "    </tr>\n",
       "  </tbody>\n",
       "</table>\n",
       "</div>"
      ],
      "text/plain": [
       "  Country/Region  Confirmed  Deaths  Recovered  Active  New cases  New deaths  \\\n",
       "0    Afghanistan      36263    1269      25198    9796        106          10   \n",
       "1        Albania       4880     144       2745    1991        117           6   \n",
       "\n",
       "   New recovered  Deaths / 100 Cases  Recovered / 100 Cases  \\\n",
       "0             18                3.50                  69.49   \n",
       "1             63                2.95                  56.25   \n",
       "\n",
       "   Deaths / 100 Recovered  Confirmed last week  1 week change  \\\n",
       "0                    5.04                35526            737   \n",
       "1                    5.25                 4171            709   \n",
       "\n",
       "   1 week % increase             WHO Region  \n",
       "0               2.07  Eastern Mediterranean  \n",
       "1              17.00                 Europe  "
      ]
     },
     "execution_count": 2,
     "metadata": {},
     "output_type": "execute_result"
    }
   ],
   "source": [
    "df = pd.read_csv('country_wise_latest.csv')\n",
    "df.head(2)"
   ]
  },
  {
   "cell_type": "code",
   "execution_count": 3,
   "id": "1a5001a1-fd30-499b-b247-57f167b12be6",
   "metadata": {},
   "outputs": [
    {
     "data": {
      "text/plain": [
       "(187, 15)"
      ]
     },
     "execution_count": 3,
     "metadata": {},
     "output_type": "execute_result"
    }
   ],
   "source": [
    "df.shape"
   ]
  },
  {
   "cell_type": "code",
   "execution_count": 4,
   "id": "e15ac17c-d160-442c-93b6-949fcee2e9a0",
   "metadata": {},
   "outputs": [
    {
     "name": "stdout",
     "output_type": "stream",
     "text": [
      "<class 'pandas.core.frame.DataFrame'>\n",
      "RangeIndex: 187 entries, 0 to 186\n",
      "Data columns (total 15 columns):\n",
      " #   Column                  Non-Null Count  Dtype  \n",
      "---  ------                  --------------  -----  \n",
      " 0   Country/Region          187 non-null    object \n",
      " 1   Confirmed               187 non-null    int64  \n",
      " 2   Deaths                  187 non-null    int64  \n",
      " 3   Recovered               187 non-null    int64  \n",
      " 4   Active                  187 non-null    int64  \n",
      " 5   New cases               187 non-null    int64  \n",
      " 6   New deaths              187 non-null    int64  \n",
      " 7   New recovered           187 non-null    int64  \n",
      " 8   Deaths / 100 Cases      187 non-null    float64\n",
      " 9   Recovered / 100 Cases   187 non-null    float64\n",
      " 10  Deaths / 100 Recovered  187 non-null    float64\n",
      " 11  Confirmed last week     187 non-null    int64  \n",
      " 12  1 week change           187 non-null    int64  \n",
      " 13  1 week % increase       187 non-null    float64\n",
      " 14  WHO Region              187 non-null    object \n",
      "dtypes: float64(4), int64(9), object(2)\n",
      "memory usage: 22.0+ KB\n"
     ]
    }
   ],
   "source": [
    "df.info()"
   ]
  },
  {
   "cell_type": "code",
   "execution_count": 5,
   "id": "018a637f-a393-4b10-8899-11fc2741610e",
   "metadata": {},
   "outputs": [
    {
     "data": {
      "text/plain": [
       "Country/Region            0\n",
       "Confirmed                 0\n",
       "Deaths                    0\n",
       "Recovered                 0\n",
       "Active                    0\n",
       "New cases                 0\n",
       "New deaths                0\n",
       "New recovered             0\n",
       "Deaths / 100 Cases        0\n",
       "Recovered / 100 Cases     0\n",
       "Deaths / 100 Recovered    0\n",
       "Confirmed last week       0\n",
       "1 week change             0\n",
       "1 week % increase         0\n",
       "WHO Region                0\n",
       "dtype: int64"
      ]
     },
     "execution_count": 5,
     "metadata": {},
     "output_type": "execute_result"
    }
   ],
   "source": [
    "df.isnull().sum()"
   ]
  },
  {
   "cell_type": "markdown",
   "id": "057ab342-e7af-42f7-b1df-180aa424edd1",
   "metadata": {},
   "source": [
    "#### We got no missing values and datatypes have no issues"
   ]
  },
  {
   "cell_type": "code",
   "execution_count": 6,
   "id": "ac5c126e-11a0-47b0-9291-c7fba760335a",
   "metadata": {},
   "outputs": [
    {
     "data": {
      "text/plain": [
       "Index(['Country/Region', 'Confirmed', 'Deaths', 'Recovered', 'Active',\n",
       "       'New cases', 'New deaths', 'New recovered', 'Deaths / 100 Cases',\n",
       "       'Recovered / 100 Cases', 'Deaths / 100 Recovered',\n",
       "       'Confirmed last week', '1 week change', '1 week % increase',\n",
       "       'WHO Region'],\n",
       "      dtype='object')"
      ]
     },
     "execution_count": 6,
     "metadata": {},
     "output_type": "execute_result"
    }
   ],
   "source": [
    "df.columns"
   ]
  },
  {
   "cell_type": "code",
   "execution_count": 7,
   "id": "a4096728-5126-4c4d-9ff9-ec88766eabe6",
   "metadata": {},
   "outputs": [],
   "source": [
    "df.columns = df.columns.str.strip().str.lower().str.replace(' ','_')"
   ]
  },
  {
   "cell_type": "code",
   "execution_count": 8,
   "id": "b066b8e1-4038-4af9-9474-52a50732f675",
   "metadata": {},
   "outputs": [
    {
     "data": {
      "text/plain": [
       "Index(['country/region', 'confirmed', 'deaths', 'recovered', 'active',\n",
       "       'new_cases', 'new_deaths', 'new_recovered', 'deaths_/_100_cases',\n",
       "       'recovered_/_100_cases', 'deaths_/_100_recovered',\n",
       "       'confirmed_last_week', '1_week_change', '1_week_%_increase',\n",
       "       'who_region'],\n",
       "      dtype='object')"
      ]
     },
     "execution_count": 8,
     "metadata": {},
     "output_type": "execute_result"
    }
   ],
   "source": [
    "df.columns"
   ]
  },
  {
   "cell_type": "code",
   "execution_count": 9,
   "id": "b43ce213-adff-4b7c-9636-44540b95d84a",
   "metadata": {},
   "outputs": [],
   "source": [
    "df.columns = df.columns.str.replace('/','')"
   ]
  },
  {
   "cell_type": "code",
   "execution_count": 10,
   "id": "add44ad0-e4e8-4add-80fb-136d0721ebbd",
   "metadata": {},
   "outputs": [
    {
     "data": {
      "text/plain": [
       "Index(['countryregion', 'confirmed', 'deaths', 'recovered', 'active',\n",
       "       'new_cases', 'new_deaths', 'new_recovered', 'deaths__100_cases',\n",
       "       'recovered__100_cases', 'deaths__100_recovered', 'confirmed_last_week',\n",
       "       '1_week_change', '1_week_%_increase', 'who_region'],\n",
       "      dtype='object')"
      ]
     },
     "execution_count": 10,
     "metadata": {},
     "output_type": "execute_result"
    }
   ],
   "source": [
    "df.columns"
   ]
  },
  {
   "cell_type": "markdown",
   "id": "c579d02f-01fe-49ef-987f-f8ab3de6912d",
   "metadata": {},
   "source": [
    "#### Name for columns have been changed for better understanding."
   ]
  },
  {
   "cell_type": "markdown",
   "id": "7fb88a6e-522d-4e67-b09b-86c023a25dd6",
   "metadata": {},
   "source": [
    "## 1. Which countries are most affected by COVID-19?\n"
   ]
  },
  {
   "cell_type": "code",
   "execution_count": 28,
   "id": "064af2f1-79c3-4301-b9cd-206e8b4ed3e7",
   "metadata": {},
   "outputs": [
    {
     "data": {
      "text/html": [
       "<div>\n",
       "<style scoped>\n",
       "    .dataframe tbody tr th:only-of-type {\n",
       "        vertical-align: middle;\n",
       "    }\n",
       "\n",
       "    .dataframe tbody tr th {\n",
       "        vertical-align: top;\n",
       "    }\n",
       "\n",
       "    .dataframe thead th {\n",
       "        text-align: right;\n",
       "    }\n",
       "</style>\n",
       "<table border=\"1\" class=\"dataframe\">\n",
       "  <thead>\n",
       "    <tr style=\"text-align: right;\">\n",
       "      <th></th>\n",
       "      <th>countryregion</th>\n",
       "      <th>confirmed</th>\n",
       "      <th>deaths</th>\n",
       "      <th>recovered</th>\n",
       "      <th>active</th>\n",
       "      <th>new_cases</th>\n",
       "    </tr>\n",
       "  </thead>\n",
       "  <tbody>\n",
       "    <tr>\n",
       "      <th>173</th>\n",
       "      <td>US</td>\n",
       "      <td>4290259</td>\n",
       "      <td>148011</td>\n",
       "      <td>1325804</td>\n",
       "      <td>2816444</td>\n",
       "      <td>56336</td>\n",
       "    </tr>\n",
       "    <tr>\n",
       "      <th>23</th>\n",
       "      <td>Brazil</td>\n",
       "      <td>2442375</td>\n",
       "      <td>87618</td>\n",
       "      <td>1846641</td>\n",
       "      <td>508116</td>\n",
       "      <td>23284</td>\n",
       "    </tr>\n",
       "    <tr>\n",
       "      <th>79</th>\n",
       "      <td>India</td>\n",
       "      <td>1480073</td>\n",
       "      <td>33408</td>\n",
       "      <td>951166</td>\n",
       "      <td>495499</td>\n",
       "      <td>44457</td>\n",
       "    </tr>\n",
       "    <tr>\n",
       "      <th>138</th>\n",
       "      <td>Russia</td>\n",
       "      <td>816680</td>\n",
       "      <td>13334</td>\n",
       "      <td>602249</td>\n",
       "      <td>201097</td>\n",
       "      <td>5607</td>\n",
       "    </tr>\n",
       "    <tr>\n",
       "      <th>154</th>\n",
       "      <td>South Africa</td>\n",
       "      <td>452529</td>\n",
       "      <td>7067</td>\n",
       "      <td>274925</td>\n",
       "      <td>170537</td>\n",
       "      <td>7096</td>\n",
       "    </tr>\n",
       "    <tr>\n",
       "      <th>111</th>\n",
       "      <td>Mexico</td>\n",
       "      <td>395489</td>\n",
       "      <td>44022</td>\n",
       "      <td>303810</td>\n",
       "      <td>47657</td>\n",
       "      <td>4973</td>\n",
       "    </tr>\n",
       "    <tr>\n",
       "      <th>132</th>\n",
       "      <td>Peru</td>\n",
       "      <td>389717</td>\n",
       "      <td>18418</td>\n",
       "      <td>272547</td>\n",
       "      <td>98752</td>\n",
       "      <td>13756</td>\n",
       "    </tr>\n",
       "    <tr>\n",
       "      <th>35</th>\n",
       "      <td>Chile</td>\n",
       "      <td>347923</td>\n",
       "      <td>9187</td>\n",
       "      <td>319954</td>\n",
       "      <td>18782</td>\n",
       "      <td>2133</td>\n",
       "    </tr>\n",
       "    <tr>\n",
       "      <th>177</th>\n",
       "      <td>United Kingdom</td>\n",
       "      <td>301708</td>\n",
       "      <td>45844</td>\n",
       "      <td>1437</td>\n",
       "      <td>254427</td>\n",
       "      <td>688</td>\n",
       "    </tr>\n",
       "    <tr>\n",
       "      <th>81</th>\n",
       "      <td>Iran</td>\n",
       "      <td>293606</td>\n",
       "      <td>15912</td>\n",
       "      <td>255144</td>\n",
       "      <td>22550</td>\n",
       "      <td>2434</td>\n",
       "    </tr>\n",
       "  </tbody>\n",
       "</table>\n",
       "</div>"
      ],
      "text/plain": [
       "      countryregion  confirmed  deaths  recovered   active  new_cases\n",
       "173              US    4290259  148011    1325804  2816444      56336\n",
       "23           Brazil    2442375   87618    1846641   508116      23284\n",
       "79            India    1480073   33408     951166   495499      44457\n",
       "138          Russia     816680   13334     602249   201097       5607\n",
       "154    South Africa     452529    7067     274925   170537       7096\n",
       "111          Mexico     395489   44022     303810    47657       4973\n",
       "132            Peru     389717   18418     272547    98752      13756\n",
       "35            Chile     347923    9187     319954    18782       2133\n",
       "177  United Kingdom     301708   45844       1437   254427        688\n",
       "81             Iran     293606   15912     255144    22550       2434"
      ]
     },
     "execution_count": 28,
     "metadata": {},
     "output_type": "execute_result"
    }
   ],
   "source": [
    "# country wise covid cases\n",
    "Country_wise_impact = df[['countryregion','confirmed', 'deaths', 'recovered', 'active','new_cases']].sort_values(by = 'confirmed', ascending = False)\n",
    "Country_wise_impact.head(10)"
   ]
  },
  {
   "cell_type": "markdown",
   "id": "286626aa-e5a7-4e66-9a19-93ca39918a76",
   "metadata": {},
   "source": [
    "#### 1. US have more confirmed cases with some deaths."
   ]
  },
  {
   "cell_type": "markdown",
   "id": "16088074-a482-48b2-844b-3cb42178d7d3",
   "metadata": {},
   "source": [
    "## 2. How effective is recovery across different countries?\n"
   ]
  },
  {
   "cell_type": "code",
   "execution_count": 33,
   "id": "494f567d-e593-4c07-be76-ade2b9809a94",
   "metadata": {},
   "outputs": [
    {
     "data": {
      "text/html": [
       "<div>\n",
       "<style scoped>\n",
       "    .dataframe tbody tr th:only-of-type {\n",
       "        vertical-align: middle;\n",
       "    }\n",
       "\n",
       "    .dataframe tbody tr th {\n",
       "        vertical-align: top;\n",
       "    }\n",
       "\n",
       "    .dataframe thead th {\n",
       "        text-align: right;\n",
       "    }\n",
       "</style>\n",
       "<table border=\"1\" class=\"dataframe\">\n",
       "  <thead>\n",
       "    <tr style=\"text-align: right;\">\n",
       "      <th></th>\n",
       "      <th>countryregion</th>\n",
       "      <th>Recovered/100 cases</th>\n",
       "      <th>Deaths/100 Cases</th>\n",
       "    </tr>\n",
       "  </thead>\n",
       "  <tbody>\n",
       "    <tr>\n",
       "      <th>75</th>\n",
       "      <td>Holy See</td>\n",
       "      <td>100.000000</td>\n",
       "      <td>0.000000</td>\n",
       "    </tr>\n",
       "    <tr>\n",
       "      <th>69</th>\n",
       "      <td>Grenada</td>\n",
       "      <td>100.000000</td>\n",
       "      <td>0.000000</td>\n",
       "    </tr>\n",
       "    <tr>\n",
       "      <th>49</th>\n",
       "      <td>Dominica</td>\n",
       "      <td>100.000000</td>\n",
       "      <td>0.000000</td>\n",
       "    </tr>\n",
       "    <tr>\n",
       "      <th>48</th>\n",
       "      <td>Djibouti</td>\n",
       "      <td>98.379126</td>\n",
       "      <td>1.146472</td>\n",
       "    </tr>\n",
       "    <tr>\n",
       "      <th>78</th>\n",
       "      <td>Iceland</td>\n",
       "      <td>98.327940</td>\n",
       "      <td>0.539374</td>\n",
       "    </tr>\n",
       "    <tr>\n",
       "      <th>24</th>\n",
       "      <td>Brunei</td>\n",
       "      <td>97.872340</td>\n",
       "      <td>2.127660</td>\n",
       "    </tr>\n",
       "    <tr>\n",
       "      <th>121</th>\n",
       "      <td>New Zealand</td>\n",
       "      <td>97.238279</td>\n",
       "      <td>1.412974</td>\n",
       "    </tr>\n",
       "    <tr>\n",
       "      <th>136</th>\n",
       "      <td>Qatar</td>\n",
       "      <td>97.017254</td>\n",
       "      <td>0.150552</td>\n",
       "    </tr>\n",
       "    <tr>\n",
       "      <th>105</th>\n",
       "      <td>Malaysia</td>\n",
       "      <td>96.597035</td>\n",
       "      <td>1.392633</td>\n",
       "    </tr>\n",
       "    <tr>\n",
       "      <th>110</th>\n",
       "      <td>Mauritius</td>\n",
       "      <td>96.511628</td>\n",
       "      <td>2.906977</td>\n",
       "    </tr>\n",
       "    <tr>\n",
       "      <th>126</th>\n",
       "      <td>Norway</td>\n",
       "      <td>95.838809</td>\n",
       "      <td>2.792378</td>\n",
       "    </tr>\n",
       "    <tr>\n",
       "      <th>164</th>\n",
       "      <td>Taiwan*</td>\n",
       "      <td>95.238095</td>\n",
       "      <td>1.515152</td>\n",
       "    </tr>\n",
       "    <tr>\n",
       "      <th>94</th>\n",
       "      <td>Laos</td>\n",
       "      <td>95.000000</td>\n",
       "      <td>0.000000</td>\n",
       "    </tr>\n",
       "    <tr>\n",
       "      <th>108</th>\n",
       "      <td>Malta</td>\n",
       "      <td>94.864479</td>\n",
       "      <td>1.283880</td>\n",
       "    </tr>\n",
       "    <tr>\n",
       "      <th>56</th>\n",
       "      <td>Estonia</td>\n",
       "      <td>94.542773</td>\n",
       "      <td>3.392330</td>\n",
       "    </tr>\n",
       "  </tbody>\n",
       "</table>\n",
       "</div>"
      ],
      "text/plain": [
       "    countryregion  Recovered/100 cases  Deaths/100 Cases\n",
       "75       Holy See           100.000000          0.000000\n",
       "69        Grenada           100.000000          0.000000\n",
       "49       Dominica           100.000000          0.000000\n",
       "48       Djibouti            98.379126          1.146472\n",
       "78        Iceland            98.327940          0.539374\n",
       "24         Brunei            97.872340          2.127660\n",
       "121   New Zealand            97.238279          1.412974\n",
       "136         Qatar            97.017254          0.150552\n",
       "105      Malaysia            96.597035          1.392633\n",
       "110     Mauritius            96.511628          2.906977\n",
       "126        Norway            95.838809          2.792378\n",
       "164       Taiwan*            95.238095          1.515152\n",
       "94           Laos            95.000000          0.000000\n",
       "108         Malta            94.864479          1.283880\n",
       "56        Estonia            94.542773          3.392330"
      ]
     },
     "execution_count": 33,
     "metadata": {},
     "output_type": "execute_result"
    }
   ],
   "source": [
    "# country wise recovery vs death comparison\n",
    "df['Recovered/100 cases'] = (df['recovered']/df['confirmed']) * 100\n",
    "df['Deaths/100 Cases'] = (df['deaths']/df['confirmed']) * 100\n",
    "\n",
    "Recovery_vs_deaths = df[['countryregion', 'Recovered/100 cases','Deaths/100 Cases']].sort_values(by = 'Recovered/100 cases', ascending = False)\n",
    "Recovery_vs_deaths.head(15)"
   ]
  },
  {
   "cell_type": "code",
   "execution_count": 51,
   "id": "7e9a503d-a5c4-416d-8a77-3e2c13aa5d1f",
   "metadata": {},
   "outputs": [
    {
     "data": {
      "text/plain": [
       "<Figure size 1000x800 with 0 Axes>"
      ]
     },
     "metadata": {},
     "output_type": "display_data"
    },
    {
     "data": {
      "image/png": "[encoded data removed]",
      "text/plain": [
       "<Figure size 1200x600 with 1 Axes>"
      ]
     },
     "metadata": {},
     "output_type": "display_data"
    }
   ],
   "source": [
    "plt.figure(figsize=(10, 8))\n",
    "df.sort_values('confirmed', ascending=False).head(10).plot(\n",
    "    x='countryregion', y=['confirmed', 'recovered', 'deaths'], kind='bar', figsize=(12,6))\n",
    "plt.title('Top 10 Countries by Confirmed Cases')\n",
    "plt.ylabel('Number of Cases')\n",
    "plt.xticks(rotation=45)\n",
    "plt.tight_layout()\n",
    "plt.show()\n"
   ]
  },
  {
   "cell_type": "markdown",
   "id": "f540fbe8-c6f3-439c-a5a3-a57b00cce528",
   "metadata": {},
   "source": [
    "#### 2. US and Brazil seems have Many confirmed cases with some recovery. and India plays a good role with good recoveries by huge populations."
   ]
  },
  {
   "cell_type": "markdown",
   "id": "0cc76e56-cc70-4554-b090-e5b54eeb6ff8",
   "metadata": {},
   "source": [
    "## 3. What are the current trends (1-week changes)?"
   ]
  },
  {
   "cell_type": "code",
   "execution_count": 49,
   "id": "bbab8901-3943-4321-9629-d64d3a8d98a1",
   "metadata": {},
   "outputs": [
    {
     "data": {
      "text/html": [
       "<div>\n",
       "<style scoped>\n",
       "    .dataframe tbody tr th:only-of-type {\n",
       "        vertical-align: middle;\n",
       "    }\n",
       "\n",
       "    .dataframe tbody tr th {\n",
       "        vertical-align: top;\n",
       "    }\n",
       "\n",
       "    .dataframe thead th {\n",
       "        text-align: right;\n",
       "    }\n",
       "</style>\n",
       "<table border=\"1\" class=\"dataframe\">\n",
       "  <thead>\n",
       "    <tr style=\"text-align: right;\">\n",
       "      <th></th>\n",
       "      <th>countryregion</th>\n",
       "      <th>1_week_change</th>\n",
       "      <th>1_week_%_increase</th>\n",
       "    </tr>\n",
       "  </thead>\n",
       "  <tbody>\n",
       "    <tr>\n",
       "      <th>173</th>\n",
       "      <td>US</td>\n",
       "      <td>455582</td>\n",
       "      <td>11.88</td>\n",
       "    </tr>\n",
       "    <tr>\n",
       "      <th>79</th>\n",
       "      <td>India</td>\n",
       "      <td>324735</td>\n",
       "      <td>28.11</td>\n",
       "    </tr>\n",
       "    <tr>\n",
       "      <th>23</th>\n",
       "      <td>Brazil</td>\n",
       "      <td>323729</td>\n",
       "      <td>15.28</td>\n",
       "    </tr>\n",
       "    <tr>\n",
       "      <th>154</th>\n",
       "      <td>South Africa</td>\n",
       "      <td>78901</td>\n",
       "      <td>21.12</td>\n",
       "    </tr>\n",
       "    <tr>\n",
       "      <th>37</th>\n",
       "      <td>Colombia</td>\n",
       "      <td>53096</td>\n",
       "      <td>26.03</td>\n",
       "    </tr>\n",
       "    <tr>\n",
       "      <th>111</th>\n",
       "      <td>Mexico</td>\n",
       "      <td>46093</td>\n",
       "      <td>13.19</td>\n",
       "    </tr>\n",
       "    <tr>\n",
       "      <th>138</th>\n",
       "      <td>Russia</td>\n",
       "      <td>40468</td>\n",
       "      <td>5.21</td>\n",
       "    </tr>\n",
       "    <tr>\n",
       "      <th>6</th>\n",
       "      <td>Argentina</td>\n",
       "      <td>36642</td>\n",
       "      <td>28.02</td>\n",
       "    </tr>\n",
       "    <tr>\n",
       "      <th>132</th>\n",
       "      <td>Peru</td>\n",
       "      <td>32036</td>\n",
       "      <td>8.96</td>\n",
       "    </tr>\n",
       "    <tr>\n",
       "      <th>13</th>\n",
       "      <td>Bangladesh</td>\n",
       "      <td>18772</td>\n",
       "      <td>9.05</td>\n",
       "    </tr>\n",
       "  </tbody>\n",
       "</table>\n",
       "</div>"
      ],
      "text/plain": [
       "    countryregion  1_week_change  1_week_%_increase\n",
       "173            US         455582              11.88\n",
       "79          India         324735              28.11\n",
       "23         Brazil         323729              15.28\n",
       "154  South Africa          78901              21.12\n",
       "37       Colombia          53096              26.03\n",
       "111        Mexico          46093              13.19\n",
       "138        Russia          40468               5.21\n",
       "6       Argentina          36642              28.02\n",
       "132          Peru          32036               8.96\n",
       "13     Bangladesh          18772               9.05"
      ]
     },
     "execution_count": 49,
     "metadata": {},
     "output_type": "execute_result"
    }
   ],
   "source": [
    "weekly_rise = df[['countryregion', '1_week_change', '1_week_%_increase']].sort_values(by = '1_week_change', ascending = False).head(10)\n",
    "weekly_rise"
   ]
  },
  {
   "cell_type": "code",
   "execution_count": 50,
   "id": "67c7a485-a7ba-4239-b0f1-cf02303a2aa7",
   "metadata": {},
   "outputs": [
    {
     "data": {
      "text/html": [
       "<div>\n",
       "<style scoped>\n",
       "    .dataframe tbody tr th:only-of-type {\n",
       "        vertical-align: middle;\n",
       "    }\n",
       "\n",
       "    .dataframe tbody tr th {\n",
       "        vertical-align: top;\n",
       "    }\n",
       "\n",
       "    .dataframe thead th {\n",
       "        text-align: right;\n",
       "    }\n",
       "</style>\n",
       "<table border=\"1\" class=\"dataframe\">\n",
       "  <thead>\n",
       "    <tr style=\"text-align: right;\">\n",
       "      <th></th>\n",
       "      <th>countryregion</th>\n",
       "      <th>1_week_change</th>\n",
       "      <th>1_week_%_increase</th>\n",
       "    </tr>\n",
       "  </thead>\n",
       "  <tbody>\n",
       "    <tr>\n",
       "      <th>130</th>\n",
       "      <td>Papua New Guinea</td>\n",
       "      <td>43</td>\n",
       "      <td>226.32</td>\n",
       "    </tr>\n",
       "    <tr>\n",
       "      <th>63</th>\n",
       "      <td>Gambia</td>\n",
       "      <td>214</td>\n",
       "      <td>191.07</td>\n",
       "    </tr>\n",
       "    <tr>\n",
       "      <th>11</th>\n",
       "      <td>Bahamas</td>\n",
       "      <td>208</td>\n",
       "      <td>119.54</td>\n",
       "    </tr>\n",
       "    <tr>\n",
       "      <th>186</th>\n",
       "      <td>Zimbabwe</td>\n",
       "      <td>991</td>\n",
       "      <td>57.85</td>\n",
       "    </tr>\n",
       "    <tr>\n",
       "      <th>99</th>\n",
       "      <td>Libya</td>\n",
       "      <td>847</td>\n",
       "      <td>42.78</td>\n",
       "    </tr>\n",
       "    <tr>\n",
       "      <th>58</th>\n",
       "      <td>Ethiopia</td>\n",
       "      <td>4340</td>\n",
       "      <td>42.52</td>\n",
       "    </tr>\n",
       "    <tr>\n",
       "      <th>22</th>\n",
       "      <td>Botswana</td>\n",
       "      <td>217</td>\n",
       "      <td>41.57</td>\n",
       "    </tr>\n",
       "    <tr>\n",
       "      <th>97</th>\n",
       "      <td>Lesotho</td>\n",
       "      <td>146</td>\n",
       "      <td>40.67</td>\n",
       "    </tr>\n",
       "    <tr>\n",
       "      <th>160</th>\n",
       "      <td>Suriname</td>\n",
       "      <td>404</td>\n",
       "      <td>37.44</td>\n",
       "    </tr>\n",
       "    <tr>\n",
       "      <th>41</th>\n",
       "      <td>Costa Rica</td>\n",
       "      <td>4307</td>\n",
       "      <td>37.34</td>\n",
       "    </tr>\n",
       "  </tbody>\n",
       "</table>\n",
       "</div>"
      ],
      "text/plain": [
       "        countryregion  1_week_change  1_week_%_increase\n",
       "130  Papua New Guinea             43             226.32\n",
       "63             Gambia            214             191.07\n",
       "11            Bahamas            208             119.54\n",
       "186          Zimbabwe            991              57.85\n",
       "99              Libya            847              42.78\n",
       "58           Ethiopia           4340              42.52\n",
       "22           Botswana            217              41.57\n",
       "97            Lesotho            146              40.67\n",
       "160          Suriname            404              37.44\n",
       "41         Costa Rica           4307              37.34"
      ]
     },
     "execution_count": 50,
     "metadata": {},
     "output_type": "execute_result"
    }
   ],
   "source": [
    "weekly_rise_increase = df[['countryregion', '1_week_change', '1_week_%_increase']].sort_values(by = '1_week_%_increase', ascending = False).head(10)\n",
    "weekly_rise_increase"
   ]
  },
  {
   "cell_type": "code",
   "execution_count": 56,
   "id": "9a56033c-db24-4d03-b3ca-70af5fd03fbe",
   "metadata": {},
   "outputs": [
    {
     "data": {
      "image/png": "[encoded data removed]",
      "text/plain": [
       "<Figure size 1000x800 with 1 Axes>"
      ]
     },
     "metadata": {},
     "output_type": "display_data"
    }
   ],
   "source": [
    "plt.figure(figsize=(10, 8))\n",
    "sns.barplot(x = 'countryregion', y = '1_week_%_increase', data = weekly_rise_increase)\n",
    "plt.title('1 week increased by country')\n",
    "plt.xlabel('Country/Region')\n",
    "plt.ylabel('%increase in week')\n",
    "plt.xticks(rotation=60)\n",
    "plt.show()"
   ]
  },
  {
   "cell_type": "markdown",
   "id": "41cda803-e3ae-4365-a385-85a118960cc2",
   "metadata": {},
   "source": [
    "#### 3. The place called papua New Guinea seems more cases in a week."
   ]
  },
  {
   "cell_type": "markdown",
   "id": "b9429756-6532-4c5d-b348-4af2edf05b11",
   "metadata": {},
   "source": [
    "## 4. Healthcare Outcomes"
   ]
  },
  {
   "cell_type": "code",
   "execution_count": 57,
   "id": "c7ace96e-2055-49be-bb57-7197f7074f03",
   "metadata": {},
   "outputs": [
    {
     "data": {
      "text/plain": [
       "Index(['countryregion', 'confirmed', 'deaths', 'recovered', 'active',\n",
       "       'new_cases', 'new_deaths', 'new_recovered', 'deaths__100_cases',\n",
       "       'recovered__100_cases', 'deaths__100_recovered', 'confirmed_last_week',\n",
       "       '1_week_change', '1_week_%_increase', 'who_region',\n",
       "       'Recovered/100 cases', 'Deaths/100 Cases'],\n",
       "      dtype='object')"
      ]
     },
     "execution_count": 57,
     "metadata": {},
     "output_type": "execute_result"
    }
   ],
   "source": [
    "df.columns"
   ]
  },
  {
   "cell_type": "code",
   "execution_count": 58,
   "id": "f07db641-06be-4af2-9f8e-5f6b9173b801",
   "metadata": {},
   "outputs": [
    {
     "data": {
      "text/html": [
       "<div>\n",
       "<style scoped>\n",
       "    .dataframe tbody tr th:only-of-type {\n",
       "        vertical-align: middle;\n",
       "    }\n",
       "\n",
       "    .dataframe tbody tr th {\n",
       "        vertical-align: top;\n",
       "    }\n",
       "\n",
       "    .dataframe thead th {\n",
       "        text-align: right;\n",
       "    }\n",
       "</style>\n",
       "<table border=\"1\" class=\"dataframe\">\n",
       "  <thead>\n",
       "    <tr style=\"text-align: right;\">\n",
       "      <th></th>\n",
       "      <th>countryregion</th>\n",
       "      <th>deaths__100_cases</th>\n",
       "      <th>recovered__100_cases</th>\n",
       "    </tr>\n",
       "  </thead>\n",
       "  <tbody>\n",
       "    <tr>\n",
       "      <th>75</th>\n",
       "      <td>Holy See</td>\n",
       "      <td>0.00</td>\n",
       "      <td>100.00</td>\n",
       "    </tr>\n",
       "    <tr>\n",
       "      <th>69</th>\n",
       "      <td>Grenada</td>\n",
       "      <td>0.00</td>\n",
       "      <td>100.00</td>\n",
       "    </tr>\n",
       "    <tr>\n",
       "      <th>49</th>\n",
       "      <td>Dominica</td>\n",
       "      <td>0.00</td>\n",
       "      <td>100.00</td>\n",
       "    </tr>\n",
       "    <tr>\n",
       "      <th>48</th>\n",
       "      <td>Djibouti</td>\n",
       "      <td>1.15</td>\n",
       "      <td>98.38</td>\n",
       "    </tr>\n",
       "    <tr>\n",
       "      <th>78</th>\n",
       "      <td>Iceland</td>\n",
       "      <td>0.54</td>\n",
       "      <td>98.33</td>\n",
       "    </tr>\n",
       "    <tr>\n",
       "      <th>24</th>\n",
       "      <td>Brunei</td>\n",
       "      <td>2.13</td>\n",
       "      <td>97.87</td>\n",
       "    </tr>\n",
       "    <tr>\n",
       "      <th>121</th>\n",
       "      <td>New Zealand</td>\n",
       "      <td>1.41</td>\n",
       "      <td>97.24</td>\n",
       "    </tr>\n",
       "    <tr>\n",
       "      <th>136</th>\n",
       "      <td>Qatar</td>\n",
       "      <td>0.15</td>\n",
       "      <td>97.02</td>\n",
       "    </tr>\n",
       "    <tr>\n",
       "      <th>105</th>\n",
       "      <td>Malaysia</td>\n",
       "      <td>1.39</td>\n",
       "      <td>96.60</td>\n",
       "    </tr>\n",
       "    <tr>\n",
       "      <th>110</th>\n",
       "      <td>Mauritius</td>\n",
       "      <td>2.91</td>\n",
       "      <td>96.51</td>\n",
       "    </tr>\n",
       "  </tbody>\n",
       "</table>\n",
       "</div>"
      ],
      "text/plain": [
       "    countryregion  deaths__100_cases  recovered__100_cases\n",
       "75       Holy See               0.00                100.00\n",
       "69        Grenada               0.00                100.00\n",
       "49       Dominica               0.00                100.00\n",
       "48       Djibouti               1.15                 98.38\n",
       "78        Iceland               0.54                 98.33\n",
       "24         Brunei               2.13                 97.87\n",
       "121   New Zealand               1.41                 97.24\n",
       "136         Qatar               0.15                 97.02\n",
       "105      Malaysia               1.39                 96.60\n",
       "110     Mauritius               2.91                 96.51"
      ]
     },
     "execution_count": 58,
     "metadata": {},
     "output_type": "execute_result"
    }
   ],
   "source": [
    "Health_care = df[['countryregion','deaths__100_cases','recovered__100_cases']].sort_values(by = 'recovered__100_cases', ascending = False).head(10)\n",
    "Health_care"
   ]
  },
  {
   "cell_type": "code",
   "execution_count": 63,
   "id": "16e752e1-9193-4f1d-84dc-c2078e869508",
   "metadata": {},
   "outputs": [
    {
     "data": {
      "image/png": "[encoded data removed]",
      "text/plain": [
       "<Figure size 1000x800 with 1 Axes>"
      ]
     },
     "metadata": {},
     "output_type": "display_data"
    }
   ],
   "source": [
    "plt.figure(figsize=(10, 8))\n",
    "sns.barplot(x = 'countryregion', y = 'deaths__100_cases', data = Health_care)\n",
    "plt.title('Death rate by country')\n",
    "plt.xlabel('Country/Region')\n",
    "plt.ylabel('Death_Rate')\n",
    "plt.xticks(rotation=60)\n",
    "plt.show()"
   ]
  },
  {
   "cell_type": "markdown",
   "id": "cc97a6ba-7816-4a3d-94e8-e3fb77531d35",
   "metadata": {},
   "source": [
    "#### 4. The place called Holy see, Grenada, Dominica have good healthcare, got no deaths."
   ]
  },
  {
   "cell_type": "markdown",
   "id": "21f77bc7-fcc4-4cbc-9687-cd1c116bb6c6",
   "metadata": {},
   "source": [
    "## 5.WHO Region Performance"
   ]
  },
  {
   "cell_type": "code",
   "execution_count": 66,
   "id": "47b31c59-ab30-48ad-a7da-23e365897207",
   "metadata": {},
   "outputs": [],
   "source": [
    "who_region_data= df.groupby('who_region')[[\n",
    "    'confirmed', 'deaths', 'recovered', '1_week_change', '1_week_%_increase']].sum()\n",
    "\n",
    "# Add outcome ratios\n",
    "who_region_data['Recovered/100 cases'] = (who_region_data['recovered'] / who_region_data['confirmed']) * 100\n",
    "who_region_data['Deaths/100 Cases'] = (who_region_data['deaths'] / who_region_data['confirmed']) * 100"
   ]
  },
  {
   "cell_type": "code",
   "execution_count": 67,
   "id": "39a901b4-eaf1-4bb3-9e64-d0782117f07f",
   "metadata": {},
   "outputs": [
    {
     "data": {
      "text/plain": [
       "who_region\n",
       "Africa                   60.929305\n",
       "Americas                 50.554038\n",
       "Eastern Mediterranean    80.590631\n",
       "Europe                   60.424583\n",
       "South-East Asia          63.037917\n",
       "Western Pacific          70.708003\n",
       "Name: Recovered/100 cases, dtype: float64"
      ]
     },
     "execution_count": 67,
     "metadata": {},
     "output_type": "execute_result"
    }
   ],
   "source": [
    "who_region_data['Recovered/100 cases']"
   ]
  },
  {
   "cell_type": "code",
   "execution_count": 68,
   "id": "b815d278-3211-4937-8c33-224d1ba1ffea",
   "metadata": {},
   "outputs": [
    {
     "data": {
      "text/plain": [
       "who_region\n",
       "Africa                   1.690111\n",
       "Americas                 3.877372\n",
       "Eastern Mediterranean    2.571803\n",
       "Europe                   6.399228\n",
       "South-East Asia          2.252987\n",
       "Western Pacific          2.820865\n",
       "Name: Deaths/100 Cases, dtype: float64"
      ]
     },
     "execution_count": 68,
     "metadata": {},
     "output_type": "execute_result"
    }
   ],
   "source": [
    "who_region_data['Deaths/100 Cases']"
   ]
  },
  {
   "cell_type": "code",
   "execution_count": null,
   "id": "ac9f7273-9f7a-4308-ad3a-ee3b948620d1",
   "metadata": {},
   "outputs": [],
   "source": []
  }
 ],
 "metadata": {
  "kernelspec": {
   "display_name": "Python 3 (ipykernel)",
   "language": "python",
   "name": "python3"
  },
  "language_info": {
   "codemirror_mode": {
    "name": "ipython",
    "version": 3
   },
   "file_extension": ".py",
   "mimetype": "text/x-python",
   "name": "python",
   "nbconvert_exporter": "python",
   "pygments_lexer": "ipython3",
   "version": "3.11.7"
  }
 },
 "nbformat": 4,
 "nbformat_minor": 5
}
